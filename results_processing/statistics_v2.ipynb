{
 "cells": [
  {
   "cell_type": "markdown",
   "metadata": {},
   "source": [
    "# Algorithms statistics"
   ]
  },
  {
   "cell_type": "code",
   "execution_count": 62,
   "metadata": {},
   "outputs": [],
   "source": [
    "import pandas as pd\n",
    "import matplotlib.pyplot as plt\n",
    "from glob import glob\n",
    "import numpy as np\n",
    "import os"
   ]
  },
  {
   "cell_type": "code",
   "execution_count": 63,
   "metadata": {},
   "outputs": [],
   "source": [
    "SEPARATHOR = ','\n",
    "FILE_PATH = '../tests/all_results.csv'"
   ]
  },
  {
   "cell_type": "code",
   "execution_count": 64,
   "metadata": {},
   "outputs": [],
   "source": [
    "df = pd.read_csv(FILE_PATH, sep=SEPARATHOR)"
   ]
  },
  {
   "cell_type": "code",
   "execution_count": 65,
   "metadata": {},
   "outputs": [
    {
     "data": {
      "text/html": [
       "<div>\n",
       "<style scoped>\n",
       "    .dataframe tbody tr th:only-of-type {\n",
       "        vertical-align: middle;\n",
       "    }\n",
       "\n",
       "    .dataframe tbody tr th {\n",
       "        vertical-align: top;\n",
       "    }\n",
       "\n",
       "    .dataframe thead th {\n",
       "        text-align: right;\n",
       "    }\n",
       "</style>\n",
       "<table border=\"1\" class=\"dataframe\">\n",
       "  <thead>\n",
       "    <tr style=\"text-align: right;\">\n",
       "      <th></th>\n",
       "      <th>game_type</th>\n",
       "      <th>player1</th>\n",
       "      <th>player2</th>\n",
       "      <th>winner</th>\n",
       "      <th>seed</th>\n",
       "    </tr>\n",
       "  </thead>\n",
       "  <tbody>\n",
       "    <tr>\n",
       "      <th>94</th>\n",
       "      <td>hex</td>\n",
       "      <td>mctsrave5_2</td>\n",
       "      <td>mctsstrategies5_2(random_strategy:mobility_str...</td>\n",
       "      <td>2</td>\n",
       "      <td>22021070</td>\n",
       "    </tr>\n",
       "  </tbody>\n",
       "</table>\n",
       "</div>"
      ],
      "text/plain": [
       "   game_type      player1                                            player2  \\\n",
       "94       hex  mctsrave5_2  mctsstrategies5_2(random_strategy:mobility_str...   \n",
       "\n",
       "    winner      seed  \n",
       "94       2  22021070  "
      ]
     },
     "execution_count": 65,
     "metadata": {},
     "output_type": "execute_result"
    }
   ],
   "source": [
    "df.sample(1)"
   ]
  },
  {
   "cell_type": "code",
   "execution_count": 66,
   "metadata": {},
   "outputs": [],
   "source": [
    "assert len(df[df.duplicated()]) == 0, 'Duplicated records in the results file.'"
   ]
  },
  {
   "cell_type": "markdown",
   "metadata": {},
   "source": [
    "# Othello"
   ]
  },
  {
   "cell_type": "code",
   "execution_count": 67,
   "metadata": {},
   "outputs": [],
   "source": [
    "df_othello = df[df['game_type']=='othello']"
   ]
  },
  {
   "cell_type": "code",
   "execution_count": 68,
   "metadata": {},
   "outputs": [],
   "source": [
    "assert sum(df_othello[\"player2\"].unique() == df_othello[\"player1\"].unique()), 'Different players arrays'"
   ]
  },
  {
   "cell_type": "code",
   "execution_count": 69,
   "metadata": {},
   "outputs": [],
   "source": [
    "n_games1 = len(df_othello.loc[(df_othello['player1'] == df_othello[\"player1\"].unique()[0])])\n",
    "for player1 in df_othello[\"player1\"].unique():\n",
    "    assert n_games1 == len(df_othello.loc[(df_othello['player1'] == player1)]), 'Different games player by first players'\n",
    "\n",
    "n_games2 = len(df_othello.loc[(df_othello['player2'] == df_othello[\"player2\"].unique()[0])])\n",
    "for player2 in df_othello[\"player2\"].unique():\n",
    "    assert n_games2 == len(df_othello.loc[(df_othello['player2'] == player2)]), 'Different games player by second players'\n",
    "\n",
    "assert n_games2 == n_games1, 'Different games player by players'"
   ]
  },
  {
   "cell_type": "code",
   "execution_count": 70,
   "metadata": {},
   "outputs": [],
   "source": [
    "othello_results_dict = dict()\n",
    "for player_name in df_othello[\"player1\"].unique():\n",
    "    othello_results_dict[player_name] = [0,0,0]\n",
    "\n",
    "for key in othello_results_dict.keys():\n",
    "    # wins\n",
    "    othello_results_dict[key][0] += len(df_othello.loc[(df_othello['player1'] == key) & (df_othello['winner'] == 1)])\n",
    "    othello_results_dict[key][0] += len(df_othello.loc[(df_othello['player2'] == key) & (df_othello['winner'] == 2)])\n",
    "    # draws\n",
    "    othello_results_dict[key][1] += len(df_othello.loc[(df_othello['player1'] == key) & (df_othello['winner'] == 0)])\n",
    "    othello_results_dict[key][1] += len(df_othello.loc[(df_othello['player2'] == key) & (df_othello['winner'] == 0)])\n",
    "    # losses\n",
    "    othello_results_dict[key][2] += len(df_othello.loc[(df_othello['player1'] == key) & (df_othello['winner'] == 2)])\n",
    "    othello_results_dict[key][2] += len(df_othello.loc[(df_othello['player2'] == key) & (df_othello['winner'] == 1)])"
   ]
  },
  {
   "cell_type": "code",
   "execution_count": 71,
   "metadata": {},
   "outputs": [
    {
     "data": {
      "image/png": "[encoded data removed]",
      "text/plain": [
       "<Figure size 1440x432 with 1 Axes>"
      ]
     },
     "metadata": {
      "needs_background": "light"
     },
     "output_type": "display_data"
    }
   ],
   "source": [
    "# set width of bar\n",
    "barWidth = 0.25\n",
    "fig = plt.subplots(figsize =(20, 6))\n",
    " \n",
    "# set height of bar\n",
    "wins = [v[0] for v in othello_results_dict.values()]\n",
    "draws = [v[1] for v in othello_results_dict.values()]\n",
    "losses = [v[2] for v in othello_results_dict.values()]\n",
    "\n",
    "names = othello_results_dict.keys()\n",
    " \n",
    "# Set position of bar on X axis\n",
    "br1 = np.arange(len(wins))\n",
    "br2 = [x + barWidth for x in br1]\n",
    "br3 = [x + barWidth for x in br2]\n",
    " \n",
    "# Make the plot\n",
    "plt.bar(br1, wins, color ='g', width = barWidth,\n",
    "        edgecolor ='grey', label ='wins')\n",
    "plt.bar(br2, draws, color ='grey', width = barWidth,\n",
    "        edgecolor ='grey', label ='draws')\n",
    "plt.bar(br3, losses, color ='r', width = barWidth,\n",
    "        edgecolor ='grey', label ='losses')\n",
    " \n",
    "# Adding Xticks\n",
    "plt.xlabel('Algorithm', fontweight ='bold', fontsize = 15)\n",
    "plt.xticks([r + barWidth for r in range(len(wins))], names)\n",
    "plt.title(\"Othello results\")\n",
    " \n",
    "plt.legend()\n",
    "plt.show()"
   ]
  },
  {
   "cell_type": "markdown",
   "metadata": {},
   "source": [
    "## Hex"
   ]
  },
  {
   "cell_type": "code",
   "execution_count": 72,
   "metadata": {},
   "outputs": [],
   "source": [
    "df_hex = df[df['game_type']=='hex']"
   ]
  },
  {
   "cell_type": "code",
   "execution_count": 73,
   "metadata": {},
   "outputs": [],
   "source": [
    "assert sum(df_hex[\"player2\"].unique() == df_hex[\"player1\"].unique()), 'Different players arrays'"
   ]
  },
  {
   "cell_type": "code",
   "execution_count": 74,
   "metadata": {},
   "outputs": [],
   "source": [
    "n_games1 = len(df_hex.loc[(df_hex['player1'] == df_hex[\"player1\"].unique()[0])])\n",
    "for player1 in df_hex[\"player1\"].unique():\n",
    "    assert n_games1 == len(df_hex.loc[(df_hex['player1'] == player1)]), 'Different games player by first players'\n",
    "\n",
    "n_games2 = len(df_hex.loc[(df_hex['player2'] == df_hex[\"player2\"].unique()[0])])\n",
    "for player2 in df_hex[\"player2\"].unique():\n",
    "    assert n_games2 == len(df_hex.loc[(df_hex['player2'] == player2)]), 'Different games player by second players'\n",
    "\n",
    "assert n_games2 == n_games1, 'Different games player by players'"
   ]
  },
  {
   "cell_type": "code",
   "execution_count": 75,
   "metadata": {},
   "outputs": [],
   "source": [
    "hex_results_dict = dict()\n",
    "for player_name in df_hex[\"player1\"].unique():\n",
    "    hex_results_dict[player_name] = [0,0,0]\n",
    "\n",
    "for key in hex_results_dict.keys():\n",
    "    # wins\n",
    "    hex_results_dict[key][0] += len(df_hex.loc[(df_hex['player1'] == key) & (df_hex['winner'] == 1)])\n",
    "    hex_results_dict[key][0] += len(df_hex.loc[(df_hex['player2'] == key) & (df_hex['winner'] == 2)])\n",
    "    # draws\n",
    "    hex_results_dict[key][1] += len(df_hex.loc[(df_hex['player1'] == key) & (df_hex['winner'] == 0)])\n",
    "    hex_results_dict[key][1] += len(df_hex.loc[(df_hex['player2'] == key) & (df_hex['winner'] == 0)])\n",
    "    # losses\n",
    "    hex_results_dict[key][2] += len(df_hex.loc[(df_hex['player1'] == key) & (df_hex['winner'] == 2)])\n",
    "    hex_results_dict[key][2] += len(df_hex.loc[(df_hex['player2'] == key) & (df_hex['winner'] == 1)])"
   ]
  },
  {
   "cell_type": "code",
   "execution_count": 76,
   "metadata": {},
   "outputs": [
    {
     "data": {
      "image/png": "[encoded data removed]",
      "text/plain": [
       "<Figure size 1440x432 with 1 Axes>"
      ]
     },
     "metadata": {
      "needs_background": "light"
     },
     "output_type": "display_data"
    }
   ],
   "source": [
    "# set width of bar\n",
    "barWidth = 0.25\n",
    "fig = plt.subplots(figsize =(20, 6))\n",
    " \n",
    "# set height of bar\n",
    "wins = [v[0] for v in hex_results_dict.values()]\n",
    "draws = [v[1] for v in hex_results_dict.values()]\n",
    "losses = [v[2] for v in hex_results_dict.values()]\n",
    "\n",
    "names = hex_results_dict.keys()\n",
    " \n",
    "# Set position of bar on X axis\n",
    "br1 = np.arange(len(wins))\n",
    "br2 = [x + barWidth for x in br1]\n",
    "br3 = [x + barWidth for x in br2]\n",
    " \n",
    "# Make the plot\n",
    "plt.bar(br1, wins, color ='g', width = barWidth,\n",
    "        edgecolor ='grey', label ='wins')\n",
    "plt.bar(br2, draws, color ='grey', width = barWidth,\n",
    "        edgecolor ='grey', label ='draws')\n",
    "plt.bar(br3, losses, color ='r', width = barWidth,\n",
    "        edgecolor ='grey', label ='losses')\n",
    " \n",
    "# Adding Xticks\n",
    "plt.xlabel('Algorithm', fontweight ='bold', fontsize = 15)\n",
    "plt.xticks([r + barWidth for r in range(len(wins))], names)\n",
    "plt.title(\"Hex results\")\n",
    " \n",
    "plt.legend()\n",
    "plt.show()"
   ]
  },
  {
   "cell_type": "markdown",
   "metadata": {},
   "source": [
    "## Hive"
   ]
  },
  {
   "cell_type": "code",
   "execution_count": 77,
   "metadata": {},
   "outputs": [],
   "source": [
    "df_hive = df[df['game_type']=='hive']"
   ]
  },
  {
   "cell_type": "code",
   "execution_count": 78,
   "metadata": {},
   "outputs": [],
   "source": [
    "assert sum(df_hive[\"player2\"].unique() == df_hive[\"player1\"].unique()), 'Different players arrays'"
   ]
  },
  {
   "cell_type": "code",
   "execution_count": 79,
   "metadata": {},
   "outputs": [],
   "source": [
    "n_games1 = len(df_hive.loc[(df_hive['player1'] == df_hive[\"player1\"].unique()[0])])\n",
    "for player1 in df_hive[\"player1\"].unique():\n",
    "    assert n_games1 == len(df_hive.loc[(df_hive['player1'] == player1)]), 'Different games played by first players'\n",
    "\n",
    "n_games2 = len(df_hive.loc[(df_hive['player2'] == df_hive[\"player2\"].unique()[0])])\n",
    "for player2 in df_hive[\"player2\"].unique():\n",
    "    assert n_games2 == len(df_hive.loc[(df_hive['player2'] == player2)]), 'Different games played by second players'\n",
    "\n",
    "assert n_games2 == n_games1, 'Different games played by players'"
   ]
  },
  {
   "cell_type": "code",
   "execution_count": 80,
   "metadata": {},
   "outputs": [],
   "source": [
    "hive_results_dict = dict()\n",
    "for player_name in df_hive[\"player1\"].unique():\n",
    "    hive_results_dict[player_name] = [0,0,0]\n",
    "\n",
    "for key in hive_results_dict.keys():\n",
    "    # wins\n",
    "    hive_results_dict[key][0] += len(df_hive.loc[(df_hive['player1'] == key) & (df_hive['winner'] == 1)])\n",
    "    hive_results_dict[key][0] += len(df_hive.loc[(df_hive['player2'] == key) & (df_hive['winner'] == 2)])\n",
    "    # draws\n",
    "    hive_results_dict[key][1] += len(df_hive.loc[(df_hive['player1'] == key) & (df_hive['winner'] == 0)])\n",
    "    hive_results_dict[key][1] += len(df_hive.loc[(df_hive['player2'] == key) & (df_hive['winner'] == 0)])\n",
    "    # losses\n",
    "    hive_results_dict[key][2] += len(df_hive.loc[(df_hive['player1'] == key) & (df_hive['winner'] == 2)])\n",
    "    hive_results_dict[key][2] += len(df_hive.loc[(df_hive['player2'] == key) & (df_hive['winner'] == 1)])"
   ]
  },
  {
   "cell_type": "code",
   "execution_count": 81,
   "metadata": {},
   "outputs": [
    {
     "data": {
      "image/png": "[encoded data removed]",
      "text/plain": [
       "<Figure size 1440x432 with 1 Axes>"
      ]
     },
     "metadata": {
      "needs_background": "light"
     },
     "output_type": "display_data"
    }
   ],
   "source": [
    "# set width of bar\n",
    "barWidth = 0.25\n",
    "fig = plt.subplots(figsize =(20, 6))\n",
    " \n",
    "# set height of bar\n",
    "wins = [v[0] for v in hive_results_dict.values()]\n",
    "draws = [v[1] for v in hive_results_dict.values()]\n",
    "losses = [v[2] for v in hive_results_dict.values()]\n",
    "\n",
    "names = hive_results_dict.keys()\n",
    " \n",
    "# Set position of bar on X axis\n",
    "br1 = np.arange(len(wins))\n",
    "br2 = [x + barWidth for x in br1]\n",
    "br3 = [x + barWidth for x in br2]\n",
    " \n",
    "# Make the plot\n",
    "plt.bar(br1, wins, color ='g', width = barWidth,\n",
    "        edgecolor ='grey', label ='wins')\n",
    "plt.bar(br2, draws, color ='grey', width = barWidth,\n",
    "        edgecolor ='grey', label ='draws')\n",
    "plt.bar(br3, losses, color ='r', width = barWidth,\n",
    "        edgecolor ='grey', label ='losses')\n",
    " \n",
    "# Adding Xticks\n",
    "plt.xlabel('Algorithm', fontweight ='bold', fontsize = 15)\n",
    "plt.xticks([r + barWidth for r in range(len(wins))], names)\n",
    "plt.title(\"Hive results\")\n",
    " \n",
    "plt.legend()\n",
    "plt.show()"
   ]
  }
 ],
 "metadata": {
  "interpreter": {
   "hash": "aee8b7b246df8f9039afb4144a1f6fd8d2ca17a180786b69acc140d282b71a49"
  },
  "kernelspec": {
   "display_name": "Python 3.8.7 64-bit",
   "language": "python",
   "name": "python3"
  },
  "language_info": {
   "codemirror_mode": {
    "name": "ipython",
    "version": 3
   },
   "file_extension": ".py",
   "mimetype": "text/x-python",
   "name": "python",
   "nbconvert_exporter": "python",
   "pygments_lexer": "ipython3",
   "version": "3.9.7"
  },
  "orig_nbformat": 4
 },
 "nbformat": 4,
 "nbformat_minor": 2
}
