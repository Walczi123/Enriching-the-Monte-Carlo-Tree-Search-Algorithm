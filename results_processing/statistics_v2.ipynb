{
 "cells": [
  {
   "cell_type": "markdown",
   "metadata": {},
   "source": [
    "# Algorithms statistics"
   ]
  },
  {
   "cell_type": "code",
   "execution_count": 1,
   "metadata": {},
   "outputs": [],
   "source": [
    "import pandas as pd\n",
    "import matplotlib.pyplot as plt\n",
    "from glob import glob\n",
    "import numpy as np\n",
    "import os"
   ]
  },
  {
   "cell_type": "code",
   "execution_count": 8,
   "metadata": {},
   "outputs": [],
   "source": [
    "SEPARATHOR = ','\n",
    "# FILE_PATH = '../tests/all_results.csv'\n",
    "# FILE_PATH = '../results.csv'\n",
    "FILE_PATH = '../all_results_othello_pc.csv'"
   ]
  },
  {
   "cell_type": "code",
   "execution_count": 9,
   "metadata": {},
   "outputs": [],
   "source": [
    "df = pd.read_csv(FILE_PATH, sep=SEPARATHOR)"
   ]
  },
  {
   "cell_type": "code",
   "execution_count": 10,
   "metadata": {},
   "outputs": [
    {
     "data": {
      "text/html": [
       "<div>\n",
       "<style scoped>\n",
       "    .dataframe tbody tr th:only-of-type {\n",
       "        vertical-align: middle;\n",
       "    }\n",
       "\n",
       "    .dataframe tbody tr th {\n",
       "        vertical-align: top;\n",
       "    }\n",
       "\n",
       "    .dataframe thead th {\n",
       "        text-align: right;\n",
       "    }\n",
       "</style>\n",
       "<table border=\"1\" class=\"dataframe\">\n",
       "  <thead>\n",
       "    <tr style=\"text-align: right;\">\n",
       "      <th></th>\n",
       "      <th>game_type</th>\n",
       "      <th>player1</th>\n",
       "      <th>player2</th>\n",
       "      <th>winner</th>\n",
       "      <th>seed</th>\n",
       "      <th>game_time</th>\n",
       "    </tr>\n",
       "  </thead>\n",
       "  <tbody>\n",
       "    <tr>\n",
       "      <th>42</th>\n",
       "      <td>othello</td>\n",
       "      <td>mcts5000</td>\n",
       "      <td>mctsstrategy1000(mobility_strategy)</td>\n",
       "      <td>1</td>\n",
       "      <td>22025001</td>\n",
       "      <td>1794.406075</td>\n",
       "    </tr>\n",
       "  </tbody>\n",
       "</table>\n",
       "</div>"
      ],
      "text/plain": [
       "   game_type   player1                              player2  winner      seed  \\\n",
       "42   othello  mcts5000  mctsstrategy1000(mobility_strategy)       1  22025001   \n",
       "\n",
       "      game_time  \n",
       "42  1794.406075  "
      ]
     },
     "execution_count": 10,
     "metadata": {},
     "output_type": "execute_result"
    }
   ],
   "source": [
    "df.sample(1)"
   ]
  },
  {
   "cell_type": "code",
   "execution_count": 27,
   "metadata": {},
   "outputs": [
    {
     "ename": "SyntaxError",
     "evalue": "invalid syntax (Temp/ipykernel_20428/4015905438.py, line 1)",
     "output_type": "error",
     "traceback": [
      "\u001b[1;36m  File \u001b[1;32m\"C:\\Users\\Patryk\\AppData\\Local\\Temp/ipykernel_20428/4015905438.py\"\u001b[1;36m, line \u001b[1;32m1\u001b[0m\n\u001b[1;33m    df_othello = df[df['game_type']=='othello'][df[\"player1\"]=\"mct1000\"]\u001b[0m\n\u001b[1;37m                                                             ^\u001b[0m\n\u001b[1;31mSyntaxError\u001b[0m\u001b[1;31m:\u001b[0m invalid syntax\n"
     ]
    }
   ],
   "source": [
    "df[df['game_type']=='othello'][df[\"player1\"]=\"mct1000\"]"
   ]
  },
  {
   "cell_type": "code",
   "execution_count": 30,
   "metadata": {},
   "outputs": [
    {
     "data": {
      "text/plain": [
       "False"
      ]
     },
     "execution_count": 30,
     "metadata": {},
     "output_type": "execute_result"
    }
   ],
   "source": [
    "((df['game_type'] == 'othello') & (df['player1'] == 'mcts1000') & (df['player2'] == 'mcts1000') & (df['seed'] == '1000')).any()"
   ]
  },
  {
   "cell_type": "code",
   "execution_count": null,
   "metadata": {},
   "outputs": [],
   "source": [
    "df[df['game_type']=='othello'][df[\"player1\"]=\"mct1000\"]"
   ]
  },
  {
   "cell_type": "code",
   "execution_count": 5,
   "metadata": {},
   "outputs": [],
   "source": [
    "assert len(df[df.duplicated()]) == 0, 'Duplicated records in the results file.'"
   ]
  },
  {
   "cell_type": "code",
   "execution_count": 6,
   "metadata": {},
   "outputs": [],
   "source": [
    "def rename(current_names, alg_names):\n",
    "    result = []\n",
    "    for name in current_names:\n",
    "        if name == 0:\n",
    "            result.append('draw')\n",
    "        elif name == 1 or name == 2:\n",
    "            result.append(alg_names[name - 1])\n",
    "        else:\n",
    "            result.append('error')\n",
    "    return result"
   ]
  },
  {
   "cell_type": "code",
   "execution_count": 7,
   "metadata": {},
   "outputs": [],
   "source": [
    "def draw_graphs(df):\n",
    "    players = np.unique(np.concatenate((df_othello[\"player1\"].unique(), df_othello[\"player2\"].unique())))\n",
    "    for player1 in players:\n",
    "        df_player1 = df.loc[(df['player1'] == player1)]\n",
    "        for player2 in players:\n",
    "            df_player2 = df_player1.loc[(df_player1['player2'] == player2)]\n",
    "            values = df_player2['winner']\n",
    "            v_counts = values.value_counts()\n",
    "            v_counts.index = rename(v_counts.index, [player1, player2])\n",
    "            total = len(values)\n",
    "\n",
    "            fig = plt.figure()\n",
    "            plt.title(f\"{player1} vs {player2}\")\n",
    "            plt.pie(v_counts, labels=v_counts.index, autopct=lambda x : '{:.2f}%\\n({:.0f})'.format(x, total*x/100), shadow=True)"
   ]
  },
  {
   "cell_type": "markdown",
   "metadata": {},
   "source": [
    "# Othello"
   ]
  },
  {
   "cell_type": "code",
   "execution_count": 8,
   "metadata": {},
   "outputs": [],
   "source": [
    "df_othello = df[df['game_type']=='othello']"
   ]
  },
  {
   "cell_type": "code",
   "execution_count": 10,
   "metadata": {},
   "outputs": [
    {
     "name": "stderr",
     "output_type": "stream",
     "text": [
      "/var/folders/xr/8g_mjl9n5116r6zq5zg6c6pr0000gn/T/ipykernel_24651/3687621455.py:1: DeprecationWarning: elementwise comparison failed; this will raise an error in the future.\n",
      "  assert df_othello[\"player2\"].unique() == df_othello[\"player1\"].unique(), 'Different players arrays'\n"
     ]
    },
    {
     "ename": "AssertionError",
     "evalue": "Different players arrays",
     "output_type": "error",
     "traceback": [
      "\u001b[0;31m---------------------------------------------------------------------------\u001b[0m",
      "\u001b[0;31mAssertionError\u001b[0m                            Traceback (most recent call last)",
      "\u001b[0;32m/var/folders/xr/8g_mjl9n5116r6zq5zg6c6pr0000gn/T/ipykernel_24651/3687621455.py\u001b[0m in \u001b[0;36m<module>\u001b[0;34m\u001b[0m\n\u001b[0;32m----> 1\u001b[0;31m \u001b[0;32massert\u001b[0m \u001b[0mdf_othello\u001b[0m\u001b[0;34m[\u001b[0m\u001b[0;34m\"player2\"\u001b[0m\u001b[0;34m]\u001b[0m\u001b[0;34m.\u001b[0m\u001b[0munique\u001b[0m\u001b[0;34m(\u001b[0m\u001b[0;34m)\u001b[0m \u001b[0;34m==\u001b[0m \u001b[0mdf_othello\u001b[0m\u001b[0;34m[\u001b[0m\u001b[0;34m\"player1\"\u001b[0m\u001b[0;34m]\u001b[0m\u001b[0;34m.\u001b[0m\u001b[0munique\u001b[0m\u001b[0;34m(\u001b[0m\u001b[0;34m)\u001b[0m\u001b[0;34m,\u001b[0m \u001b[0;34m'Different players arrays'\u001b[0m\u001b[0;34m\u001b[0m\u001b[0;34m\u001b[0m\u001b[0m\n\u001b[0m",
      "\u001b[0;31mAssertionError\u001b[0m: Different players arrays"
     ]
    }
   ],
   "source": [
    "assert df_othello[\"player2\"].unique() == df_othello[\"player1\"].unique(), 'Different players arrays'"
   ]
  },
  {
   "cell_type": "code",
   "execution_count": 10,
   "metadata": {},
   "outputs": [
    {
     "ename": "AssertionError",
     "evalue": "Different games player by first players",
     "output_type": "error",
     "traceback": [
      "\u001b[0;31m---------------------------------------------------------------------------\u001b[0m",
      "\u001b[0;31mAssertionError\u001b[0m                            Traceback (most recent call last)",
      "\u001b[0;32m/var/folders/xr/8g_mjl9n5116r6zq5zg6c6pr0000gn/T/ipykernel_84162/3583767295.py\u001b[0m in \u001b[0;36m<module>\u001b[0;34m\u001b[0m\n\u001b[1;32m      1\u001b[0m \u001b[0mn_games1\u001b[0m \u001b[0;34m=\u001b[0m \u001b[0mlen\u001b[0m\u001b[0;34m(\u001b[0m\u001b[0mdf_othello\u001b[0m\u001b[0;34m.\u001b[0m\u001b[0mloc\u001b[0m\u001b[0;34m[\u001b[0m\u001b[0;34m(\u001b[0m\u001b[0mdf_othello\u001b[0m\u001b[0;34m[\u001b[0m\u001b[0;34m'player1'\u001b[0m\u001b[0;34m]\u001b[0m \u001b[0;34m==\u001b[0m \u001b[0mdf_othello\u001b[0m\u001b[0;34m[\u001b[0m\u001b[0;34m\"player1\"\u001b[0m\u001b[0;34m]\u001b[0m\u001b[0;34m.\u001b[0m\u001b[0munique\u001b[0m\u001b[0;34m(\u001b[0m\u001b[0;34m)\u001b[0m\u001b[0;34m[\u001b[0m\u001b[0;36m0\u001b[0m\u001b[0;34m]\u001b[0m\u001b[0;34m)\u001b[0m\u001b[0;34m]\u001b[0m\u001b[0;34m)\u001b[0m\u001b[0;34m\u001b[0m\u001b[0;34m\u001b[0m\u001b[0m\n\u001b[1;32m      2\u001b[0m \u001b[0;32mfor\u001b[0m \u001b[0mplayer1\u001b[0m \u001b[0;32min\u001b[0m \u001b[0mdf_othello\u001b[0m\u001b[0;34m[\u001b[0m\u001b[0;34m\"player1\"\u001b[0m\u001b[0;34m]\u001b[0m\u001b[0;34m.\u001b[0m\u001b[0munique\u001b[0m\u001b[0;34m(\u001b[0m\u001b[0;34m)\u001b[0m\u001b[0;34m:\u001b[0m\u001b[0;34m\u001b[0m\u001b[0;34m\u001b[0m\u001b[0m\n\u001b[0;32m----> 3\u001b[0;31m     \u001b[0;32massert\u001b[0m \u001b[0mn_games1\u001b[0m \u001b[0;34m==\u001b[0m \u001b[0mlen\u001b[0m\u001b[0;34m(\u001b[0m\u001b[0mdf_othello\u001b[0m\u001b[0;34m.\u001b[0m\u001b[0mloc\u001b[0m\u001b[0;34m[\u001b[0m\u001b[0;34m(\u001b[0m\u001b[0mdf_othello\u001b[0m\u001b[0;34m[\u001b[0m\u001b[0;34m'player1'\u001b[0m\u001b[0;34m]\u001b[0m \u001b[0;34m==\u001b[0m \u001b[0mplayer1\u001b[0m\u001b[0;34m)\u001b[0m\u001b[0;34m]\u001b[0m\u001b[0;34m)\u001b[0m\u001b[0;34m,\u001b[0m \u001b[0;34m'Different games player by first players'\u001b[0m\u001b[0;34m\u001b[0m\u001b[0;34m\u001b[0m\u001b[0m\n\u001b[0m\u001b[1;32m      4\u001b[0m \u001b[0;34m\u001b[0m\u001b[0m\n\u001b[1;32m      5\u001b[0m \u001b[0mn_games2\u001b[0m \u001b[0;34m=\u001b[0m \u001b[0mlen\u001b[0m\u001b[0;34m(\u001b[0m\u001b[0mdf_othello\u001b[0m\u001b[0;34m.\u001b[0m\u001b[0mloc\u001b[0m\u001b[0;34m[\u001b[0m\u001b[0;34m(\u001b[0m\u001b[0mdf_othello\u001b[0m\u001b[0;34m[\u001b[0m\u001b[0;34m'player2'\u001b[0m\u001b[0;34m]\u001b[0m \u001b[0;34m==\u001b[0m \u001b[0mdf_othello\u001b[0m\u001b[0;34m[\u001b[0m\u001b[0;34m\"player2\"\u001b[0m\u001b[0;34m]\u001b[0m\u001b[0;34m.\u001b[0m\u001b[0munique\u001b[0m\u001b[0;34m(\u001b[0m\u001b[0;34m)\u001b[0m\u001b[0;34m[\u001b[0m\u001b[0;36m0\u001b[0m\u001b[0;34m]\u001b[0m\u001b[0;34m)\u001b[0m\u001b[0;34m]\u001b[0m\u001b[0;34m)\u001b[0m\u001b[0;34m\u001b[0m\u001b[0;34m\u001b[0m\u001b[0m\n",
      "\u001b[0;31mAssertionError\u001b[0m: Different games player by first players"
     ]
    }
   ],
   "source": [
    "n_games1 = len(df_othello.loc[(df_othello['player1'] == df_othello[\"player1\"].unique()[0])])\n",
    "for player1 in df_othello[\"player1\"].unique():\n",
    "    assert n_games1 == len(df_othello.loc[(df_othello['player1'] == player1)]), 'Different games player by first players'\n",
    "\n",
    "n_games2 = len(df_othello.loc[(df_othello['player2'] == df_othello[\"player2\"].unique()[0])])\n",
    "for player2 in df_othello[\"player2\"].unique():\n",
    "    assert n_games2 == len(df_othello.loc[(df_othello['player2'] == player2)]), 'Different games player by second players'\n",
    "\n",
    "assert n_games2 == n_games1, 'Different games player by players'"
   ]
  },
  {
   "cell_type": "code",
   "execution_count": 11,
   "metadata": {},
   "outputs": [],
   "source": [
    "othello_results_dict = dict()\n",
    "players = np.unique(np.concatenate((df_othello[\"player1\"].unique(), df_othello[\"player2\"].unique())))\n",
    "for player_name in players:\n",
    "    othello_results_dict[player_name] = [0,0,0]\n",
    "\n",
    "for key in othello_results_dict.keys():\n",
    "    # wins\n",
    "    othello_results_dict[key][0] += len(df_othello.loc[(df_othello['player1'] == key) & (df_othello['winner'] == 1)])\n",
    "    othello_results_dict[key][0] += len(df_othello.loc[(df_othello['player2'] == key) & (df_othello['winner'] == 2)])\n",
    "    # draws\n",
    "    othello_results_dict[key][1] += len(df_othello.loc[(df_othello['player1'] == key) & (df_othello['winner'] == 0)])\n",
    "    othello_results_dict[key][1] += len(df_othello.loc[(df_othello['player2'] == key) & (df_othello['winner'] == 0)])\n",
    "    # losses\n",
    "    othello_results_dict[key][2] += len(df_othello.loc[(df_othello['player1'] == key) & (df_othello['winner'] == 2)])\n",
    "    othello_results_dict[key][2] += len(df_othello.loc[(df_othello['player2'] == key) & (df_othello['winner'] == 1)])"
   ]
  },
  {
   "cell_type": "code",
   "execution_count": 12,
   "metadata": {},
   "outputs": [
    {
     "data": {
      "image/png": "[encoded data removed]",
      "text/plain": [
       "<Figure size 1440x432 with 1 Axes>"
      ]
     },
     "metadata": {
      "needs_background": "light"
     },
     "output_type": "display_data"
    }
   ],
   "source": [
    "# set width of bar\n",
    "barWidth = 0.15\n",
    "fig = plt.subplots(figsize =(20, 6))\n",
    " \n",
    "# set height of bar\n",
    "wins = [v[0] for v in othello_results_dict.values()]\n",
    "draws = [v[1] for v in othello_results_dict.values()]\n",
    "losses = [v[2] for v in othello_results_dict.values()]\n",
    "\n",
    "names = othello_results_dict.keys()\n",
    " \n",
    "# Set position of bar on X axis\n",
    "br1 = np.arange(len(wins))\n",
    "br2 = [x + barWidth for x in br1]\n",
    "br3 = [x + barWidth for x in br2]\n",
    " \n",
    "# Make the plot\n",
    "plt.bar(br1, wins, color ='g', width = barWidth,\n",
    "        edgecolor ='grey', label ='wins')\n",
    "plt.bar(br2, draws, color ='grey', width = barWidth,\n",
    "        edgecolor ='grey', label ='draws')\n",
    "plt.bar(br3, losses, color ='r', width = barWidth,\n",
    "        edgecolor ='grey', label ='losses')\n",
    " \n",
    "# Adding Xticks\n",
    "plt.xlabel('Algorithm', fontweight ='bold', fontsize = 15)\n",
    "plt.xticks([r + barWidth for r in range(len(wins))], names)\n",
    "plt.title(\"Othello results\")\n",
    " \n",
    "plt.legend()\n",
    "plt.show()"
   ]
  },
  {
   "cell_type": "code",
   "execution_count": null,
   "metadata": {},
   "outputs": [],
   "source": [
    "draw_graphs(df_othello)"
   ]
  },
  {
   "cell_type": "markdown",
   "metadata": {},
   "source": [
    "## Hex"
   ]
  },
  {
   "cell_type": "code",
   "execution_count": 67,
   "metadata": {},
   "outputs": [],
   "source": [
    "df_hex = df[df['game_type']=='hex']"
   ]
  },
  {
   "cell_type": "code",
   "execution_count": 68,
   "metadata": {},
   "outputs": [],
   "source": [
    "assert sum(df_hex[\"player2\"].unique() == df_hex[\"player1\"].unique()), 'Different players arrays'"
   ]
  },
  {
   "cell_type": "code",
   "execution_count": 69,
   "metadata": {},
   "outputs": [
    {
     "ename": "AssertionError",
     "evalue": "Different games player by first players",
     "output_type": "error",
     "traceback": [
      "\u001b[1;31m---------------------------------------------------------------------------\u001b[0m",
      "\u001b[1;31mAssertionError\u001b[0m                            Traceback (most recent call last)",
      "\u001b[1;32m~\\AppData\\Local\\Temp/ipykernel_26404/3110141976.py\u001b[0m in \u001b[0;36m<module>\u001b[1;34m\u001b[0m\n\u001b[0;32m      1\u001b[0m \u001b[0mn_games1\u001b[0m \u001b[1;33m=\u001b[0m \u001b[0mlen\u001b[0m\u001b[1;33m(\u001b[0m\u001b[0mdf_hex\u001b[0m\u001b[1;33m.\u001b[0m\u001b[0mloc\u001b[0m\u001b[1;33m[\u001b[0m\u001b[1;33m(\u001b[0m\u001b[0mdf_hex\u001b[0m\u001b[1;33m[\u001b[0m\u001b[1;34m'player1'\u001b[0m\u001b[1;33m]\u001b[0m \u001b[1;33m==\u001b[0m \u001b[0mdf_hex\u001b[0m\u001b[1;33m[\u001b[0m\u001b[1;34m\"player1\"\u001b[0m\u001b[1;33m]\u001b[0m\u001b[1;33m.\u001b[0m\u001b[0munique\u001b[0m\u001b[1;33m(\u001b[0m\u001b[1;33m)\u001b[0m\u001b[1;33m[\u001b[0m\u001b[1;36m0\u001b[0m\u001b[1;33m]\u001b[0m\u001b[1;33m)\u001b[0m\u001b[1;33m]\u001b[0m\u001b[1;33m)\u001b[0m\u001b[1;33m\u001b[0m\u001b[1;33m\u001b[0m\u001b[0m\n\u001b[0;32m      2\u001b[0m \u001b[1;32mfor\u001b[0m \u001b[0mplayer1\u001b[0m \u001b[1;32min\u001b[0m \u001b[0mdf_hex\u001b[0m\u001b[1;33m[\u001b[0m\u001b[1;34m\"player1\"\u001b[0m\u001b[1;33m]\u001b[0m\u001b[1;33m.\u001b[0m\u001b[0munique\u001b[0m\u001b[1;33m(\u001b[0m\u001b[1;33m)\u001b[0m\u001b[1;33m:\u001b[0m\u001b[1;33m\u001b[0m\u001b[1;33m\u001b[0m\u001b[0m\n\u001b[1;32m----> 3\u001b[1;33m     \u001b[1;32massert\u001b[0m \u001b[0mn_games1\u001b[0m \u001b[1;33m==\u001b[0m \u001b[0mlen\u001b[0m\u001b[1;33m(\u001b[0m\u001b[0mdf_hex\u001b[0m\u001b[1;33m.\u001b[0m\u001b[0mloc\u001b[0m\u001b[1;33m[\u001b[0m\u001b[1;33m(\u001b[0m\u001b[0mdf_hex\u001b[0m\u001b[1;33m[\u001b[0m\u001b[1;34m'player1'\u001b[0m\u001b[1;33m]\u001b[0m \u001b[1;33m==\u001b[0m \u001b[0mplayer1\u001b[0m\u001b[1;33m)\u001b[0m\u001b[1;33m]\u001b[0m\u001b[1;33m)\u001b[0m\u001b[1;33m,\u001b[0m \u001b[1;34m'Different games player by first players'\u001b[0m\u001b[1;33m\u001b[0m\u001b[1;33m\u001b[0m\u001b[0m\n\u001b[0m\u001b[0;32m      4\u001b[0m \u001b[1;33m\u001b[0m\u001b[0m\n\u001b[0;32m      5\u001b[0m \u001b[0mn_games2\u001b[0m \u001b[1;33m=\u001b[0m \u001b[0mlen\u001b[0m\u001b[1;33m(\u001b[0m\u001b[0mdf_hex\u001b[0m\u001b[1;33m.\u001b[0m\u001b[0mloc\u001b[0m\u001b[1;33m[\u001b[0m\u001b[1;33m(\u001b[0m\u001b[0mdf_hex\u001b[0m\u001b[1;33m[\u001b[0m\u001b[1;34m'player2'\u001b[0m\u001b[1;33m]\u001b[0m \u001b[1;33m==\u001b[0m \u001b[0mdf_hex\u001b[0m\u001b[1;33m[\u001b[0m\u001b[1;34m\"player2\"\u001b[0m\u001b[1;33m]\u001b[0m\u001b[1;33m.\u001b[0m\u001b[0munique\u001b[0m\u001b[1;33m(\u001b[0m\u001b[1;33m)\u001b[0m\u001b[1;33m[\u001b[0m\u001b[1;36m0\u001b[0m\u001b[1;33m]\u001b[0m\u001b[1;33m)\u001b[0m\u001b[1;33m]\u001b[0m\u001b[1;33m)\u001b[0m\u001b[1;33m\u001b[0m\u001b[1;33m\u001b[0m\u001b[0m\n",
      "\u001b[1;31mAssertionError\u001b[0m: Different games player by first players"
     ]
    }
   ],
   "source": [
    "n_games1 = len(df_hex.loc[(df_hex['player1'] == df_hex[\"player1\"].unique()[0])])\n",
    "for player1 in df_hex[\"player1\"].unique():\n",
    "    assert n_games1 == len(df_hex.loc[(df_hex['player1'] == player1)]), 'Different games player by first players'\n",
    "\n",
    "n_games2 = len(df_hex.loc[(df_hex['player2'] == df_hex[\"player2\"].unique()[0])])\n",
    "for player2 in df_hex[\"player2\"].unique():\n",
    "    assert n_games2 == len(df_hex.loc[(df_hex['player2'] == player2)]), 'Different games player by second players'\n",
    "\n",
    "assert n_games2 == n_games1, 'Different games player by players'"
   ]
  },
  {
   "cell_type": "code",
   "execution_count": 70,
   "metadata": {},
   "outputs": [],
   "source": [
    "hex_results_dict = dict()\n",
    "players = np.unique(np.concatenate((df_othello[\"player1\"].unique(), df_othello[\"player2\"].unique())))\n",
    "for player_name in players:\n",
    "    hex_results_dict[player_name] = [0,0,0]\n",
    "\n",
    "for key in hex_results_dict.keys():\n",
    "    # wins\n",
    "    hex_results_dict[key][0] += len(df_hex.loc[(df_hex['player1'] == key) & (df_hex['winner'] == 1)])\n",
    "    hex_results_dict[key][0] += len(df_hex.loc[(df_hex['player2'] == key) & (df_hex['winner'] == 2)])\n",
    "    # draws\n",
    "    hex_results_dict[key][1] += len(df_hex.loc[(df_hex['player1'] == key) & (df_hex['winner'] == 0)])\n",
    "    hex_results_dict[key][1] += len(df_hex.loc[(df_hex['player2'] == key) & (df_hex['winner'] == 0)])\n",
    "    # losses\n",
    "    hex_results_dict[key][2] += len(df_hex.loc[(df_hex['player1'] == key) & (df_hex['winner'] == 2)])\n",
    "    hex_results_dict[key][2] += len(df_hex.loc[(df_hex['player2'] == key) & (df_hex['winner'] == 1)])"
   ]
  },
  {
   "cell_type": "code",
   "execution_count": 72,
   "metadata": {},
   "outputs": [
    {
     "data": {
      "image/png": "[encoded data removed]",
      "text/plain": [
       "<Figure size 1440x432 with 1 Axes>"
      ]
     },
     "metadata": {
      "needs_background": "light"
     },
     "output_type": "display_data"
    }
   ],
   "source": [
    "# set width of bar\n",
    "barWidth = 0.15\n",
    "fig = plt.subplots(figsize =(20, 6))\n",
    " \n",
    "# set height of bar\n",
    "wins = [v[0] for v in hex_results_dict.values()]\n",
    "draws = [v[1] for v in hex_results_dict.values()]\n",
    "losses = [v[2] for v in hex_results_dict.values()]\n",
    "\n",
    "names = hex_results_dict.keys()\n",
    " \n",
    "# Set position of bar on X axis\n",
    "br1 = np.arange(len(wins))\n",
    "br2 = [x + barWidth for x in br1]\n",
    "br3 = [x + barWidth for x in br2]\n",
    " \n",
    "# Make the plot\n",
    "plt.bar(br1, wins, color ='g', width = barWidth,\n",
    "        edgecolor ='grey', label ='wins')\n",
    "plt.bar(br2, draws, color ='grey', width = barWidth,\n",
    "        edgecolor ='grey', label ='draws')\n",
    "plt.bar(br3, losses, color ='r', width = barWidth,\n",
    "        edgecolor ='grey', label ='losses')\n",
    " \n",
    "# Adding Xticks\n",
    "plt.xlabel('Algorithm', fontweight ='bold', fontsize = 15)\n",
    "plt.xticks([r + barWidth for r in range(len(wins))], names)\n",
    "plt.title(\"Hex results\")\n",
    " \n",
    "plt.legend()\n",
    "plt.show()"
   ]
  },
  {
   "cell_type": "code",
   "execution_count": null,
   "metadata": {},
   "outputs": [],
   "source": [
    "draw_graphs(df_hex)"
   ]
  },
  {
   "cell_type": "markdown",
   "metadata": {},
   "source": [
    "## Hive"
   ]
  },
  {
   "cell_type": "code",
   "execution_count": 77,
   "metadata": {},
   "outputs": [],
   "source": [
    "df_hive = df[df['game_type']=='hive']"
   ]
  },
  {
   "cell_type": "code",
   "execution_count": 78,
   "metadata": {},
   "outputs": [],
   "source": [
    "assert sum(df_hive[\"player2\"].unique() == df_hive[\"player1\"].unique()), 'Different players arrays'"
   ]
  },
  {
   "cell_type": "code",
   "execution_count": 79,
   "metadata": {},
   "outputs": [],
   "source": [
    "n_games1 = len(df_hive.loc[(df_hive['player1'] == df_hive[\"player1\"].unique()[0])])\n",
    "for player1 in df_hive[\"player1\"].unique():\n",
    "    assert n_games1 == len(df_hive.loc[(df_hive['player1'] == player1)]), 'Different games played by first players'\n",
    "\n",
    "n_games2 = len(df_hive.loc[(df_hive['player2'] == df_hive[\"player2\"].unique()[0])])\n",
    "for player2 in df_hive[\"player2\"].unique():\n",
    "    assert n_games2 == len(df_hive.loc[(df_hive['player2'] == player2)]), 'Different games played by second players'\n",
    "\n",
    "assert n_games2 == n_games1, 'Different games played by players'"
   ]
  },
  {
   "cell_type": "code",
   "execution_count": 80,
   "metadata": {},
   "outputs": [],
   "source": [
    "hive_results_dict = dict()\n",
    "players = np.unique(np.concatenate((df_othello[\"player1\"].unique(), df_othello[\"player2\"].unique())))\n",
    "for player_name in players:\n",
    "    hive_results_dict[player_name] = [0,0,0]\n",
    "\n",
    "for key in hive_results_dict.keys():\n",
    "    # wins\n",
    "    hive_results_dict[key][0] += len(df_hive.loc[(df_hive['player1'] == key) & (df_hive['winner'] == 1)])\n",
    "    hive_results_dict[key][0] += len(df_hive.loc[(df_hive['player2'] == key) & (df_hive['winner'] == 2)])\n",
    "    # draws\n",
    "    hive_results_dict[key][1] += len(df_hive.loc[(df_hive['player1'] == key) & (df_hive['winner'] == 0)])\n",
    "    hive_results_dict[key][1] += len(df_hive.loc[(df_hive['player2'] == key) & (df_hive['winner'] == 0)])\n",
    "    # losses\n",
    "    hive_results_dict[key][2] += len(df_hive.loc[(df_hive['player1'] == key) & (df_hive['winner'] == 2)])\n",
    "    hive_results_dict[key][2] += len(df_hive.loc[(df_hive['player2'] == key) & (df_hive['winner'] == 1)])"
   ]
  },
  {
   "cell_type": "code",
   "execution_count": 81,
   "metadata": {},
   "outputs": [
    {
     "data": {
      "image/png": "[encoded data removed]",
      "text/plain": [
       "<Figure size 1440x432 with 1 Axes>"
      ]
     },
     "metadata": {
      "needs_background": "light"
     },
     "output_type": "display_data"
    }
   ],
   "source": [
    "# set width of bar\n",
    "barWidth = 0.25\n",
    "fig = plt.subplots(figsize =(20, 6))\n",
    " \n",
    "# set height of bar\n",
    "wins = [v[0] for v in hive_results_dict.values()]\n",
    "draws = [v[1] for v in hive_results_dict.values()]\n",
    "losses = [v[2] for v in hive_results_dict.values()]\n",
    "\n",
    "names = hive_results_dict.keys()\n",
    " \n",
    "# Set position of bar on X axis\n",
    "br1 = np.arange(len(wins))\n",
    "br2 = [x + barWidth for x in br1]\n",
    "br3 = [x + barWidth for x in br2]\n",
    " \n",
    "# Make the plot\n",
    "plt.bar(br1, wins, color ='g', width = barWidth,\n",
    "        edgecolor ='grey', label ='wins')\n",
    "plt.bar(br2, draws, color ='grey', width = barWidth,\n",
    "        edgecolor ='grey', label ='draws')\n",
    "plt.bar(br3, losses, color ='r', width = barWidth,\n",
    "        edgecolor ='grey', label ='losses')\n",
    " \n",
    "# Adding Xticks\n",
    "plt.xlabel('Algorithm', fontweight ='bold', fontsize = 15)\n",
    "plt.xticks([r + barWidth for r in range(len(wins))], names)\n",
    "plt.title(\"Hive results\")\n",
    " \n",
    "plt.legend()\n",
    "plt.show()"
   ]
  }
 ],
 "metadata": {
  "interpreter": {
   "hash": "9e0398d58fda526a2836b6f080cc0e130ba0d90524d9bf11d624e26908064b99"
  },
  "kernelspec": {
   "display_name": "Python 3.9.7 64-bit",
   "language": "python",
   "name": "python3"
  },
  "language_info": {
   "codemirror_mode": {
    "name": "ipython",
    "version": 3
   },
   "file_extension": ".py",
   "mimetype": "text/x-python",
   "name": "python",
   "nbconvert_exporter": "python",
   "pygments_lexer": "ipython3",
   "version": "3.9.7"
  },
  "orig_nbformat": 4
 },
 "nbformat": 4,
 "nbformat_minor": 2
}
