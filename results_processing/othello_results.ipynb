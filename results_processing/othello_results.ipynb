{
 "cells": [
  {
   "cell_type": "markdown",
   "metadata": {},
   "source": [
    "### Results  - Othello"
   ]
  },
  {
   "cell_type": "code",
   "execution_count": 1,
   "metadata": {},
   "outputs": [],
   "source": [
    "from data_processing import *"
   ]
  },
  {
   "cell_type": "code",
   "execution_count": 2,
   "metadata": {},
   "outputs": [],
   "source": [
    "SEPARATHOR = ','\n",
    "XLSX_FILE_NAME = 'othello_results.xlsx'\n",
    "# FILE_PATH = '../finished_tests/prarameters_tests/fast_othello.csv'\n",
    "# FILE_PATH = '../finished_tests/final_tests.csv'\n",
    "# FILE_PATH = '../finished_tests/copy_final_test_part2_0.1.csv'\n",
    "FILE_PATH = '../finished_tests/final_tests_allOthello_partHex.csv'\n"
   ]
  },
  {
   "cell_type": "code",
   "execution_count": 3,
   "metadata": {},
   "outputs": [
    {
     "name": "stdout",
     "output_type": "stream",
     "text": [
      "Amount data before check: 261\n"
     ]
    },
    {
     "ename": "ValueError",
     "evalue": "Different games player by first players",
     "output_type": "error",
     "traceback": [
      "\u001b[1;31m---------------------------------------------------------------------------\u001b[0m",
      "\u001b[1;31mValueError\u001b[0m                                Traceback (most recent call last)",
      "\u001b[1;32m~\\AppData\\Local\\Temp/ipykernel_27156/1495962103.py\u001b[0m in \u001b[0;36m<module>\u001b[1;34m\u001b[0m\n\u001b[0;32m      3\u001b[0m \u001b[1;31m# df_tournament = create_tournament_df(df, list(result_df.index))\u001b[0m\u001b[1;33m\u001b[0m\u001b[1;33m\u001b[0m\u001b[0m\n\u001b[0;32m      4\u001b[0m \u001b[1;33m\u001b[0m\u001b[0m\n\u001b[1;32m----> 5\u001b[1;33m \u001b[0mdf\u001b[0m\u001b[1;33m,\u001b[0m \u001b[0mresult_df\u001b[0m\u001b[1;33m,\u001b[0m \u001b[0mdf_tournament\u001b[0m \u001b[1;33m=\u001b[0m \u001b[0mprocess_data\u001b[0m\u001b[1;33m(\u001b[0m\u001b[0mFILE_PATH\u001b[0m\u001b[1;33m,\u001b[0m \u001b[0mSEPARATHOR\u001b[0m\u001b[1;33m,\u001b[0m \u001b[1;34m'othello'\u001b[0m\u001b[1;33m)\u001b[0m\u001b[1;33m\u001b[0m\u001b[1;33m\u001b[0m\u001b[0m\n\u001b[0m",
      "\u001b[1;32md:\\Repozytoria\\Enriching-the-Monte-Carlo-Tree-Search-Algorithm\\results_processing\\data_processing.py\u001b[0m in \u001b[0;36mprocess_data\u001b[1;34m(file_path, separator, game_name, omit_errors)\u001b[0m\n\u001b[0;32m     10\u001b[0m \u001b[1;32mdef\u001b[0m \u001b[0mprocess_data\u001b[0m\u001b[1;33m(\u001b[0m\u001b[0mfile_path\u001b[0m\u001b[1;33m,\u001b[0m \u001b[0mseparator\u001b[0m\u001b[1;33m,\u001b[0m \u001b[0mgame_name\u001b[0m\u001b[1;33m,\u001b[0m \u001b[0momit_errors\u001b[0m\u001b[1;33m:\u001b[0m\u001b[0mbool\u001b[0m\u001b[1;33m=\u001b[0m\u001b[1;32mFalse\u001b[0m\u001b[1;33m)\u001b[0m\u001b[1;33m:\u001b[0m\u001b[1;33m\u001b[0m\u001b[1;33m\u001b[0m\u001b[0m\n\u001b[0;32m     11\u001b[0m     \u001b[0mdf\u001b[0m \u001b[1;33m=\u001b[0m \u001b[0mread_data_of_game\u001b[0m\u001b[1;33m(\u001b[0m\u001b[0mfile_path\u001b[0m\u001b[1;33m,\u001b[0m \u001b[0mseparator\u001b[0m\u001b[1;33m,\u001b[0m \u001b[0mgame_name\u001b[0m\u001b[1;33m)\u001b[0m\u001b[1;33m\u001b[0m\u001b[1;33m\u001b[0m\u001b[0m\n\u001b[1;32m---> 12\u001b[1;33m     \u001b[0mresult_df\u001b[0m \u001b[1;33m=\u001b[0m \u001b[0mcheck_data_and_create_result_df\u001b[0m\u001b[1;33m(\u001b[0m\u001b[0mdf\u001b[0m\u001b[1;33m,\u001b[0m \u001b[0momit_errors\u001b[0m\u001b[1;33m)\u001b[0m \u001b[1;31m#FALSE\u001b[0m\u001b[1;33m\u001b[0m\u001b[1;33m\u001b[0m\u001b[0m\n\u001b[0m\u001b[0;32m     13\u001b[0m     \u001b[0mdf_tournament\u001b[0m \u001b[1;33m=\u001b[0m \u001b[0mcreate_tournament_df\u001b[0m\u001b[1;33m(\u001b[0m\u001b[0mdf\u001b[0m\u001b[1;33m,\u001b[0m \u001b[0mlist\u001b[0m\u001b[1;33m(\u001b[0m\u001b[0mresult_df\u001b[0m\u001b[1;33m.\u001b[0m\u001b[0mindex\u001b[0m\u001b[1;33m)\u001b[0m\u001b[1;33m)\u001b[0m\u001b[1;33m\u001b[0m\u001b[1;33m\u001b[0m\u001b[0m\n\u001b[0;32m     14\u001b[0m     \u001b[1;32mreturn\u001b[0m  \u001b[0mdf\u001b[0m\u001b[1;33m,\u001b[0m \u001b[0mresult_df\u001b[0m\u001b[1;33m,\u001b[0m \u001b[0mdf_tournament\u001b[0m\u001b[1;33m\u001b[0m\u001b[1;33m\u001b[0m\u001b[0m\n",
      "\u001b[1;32md:\\Repozytoria\\Enriching-the-Monte-Carlo-Tree-Search-Algorithm\\results_processing\\data_processing.py\u001b[0m in \u001b[0;36mcheck_data_and_create_result_df\u001b[1;34m(df, omit_errors)\u001b[0m\n\u001b[0;32m    101\u001b[0m         \u001b[1;32mraise\u001b[0m \u001b[0mValueError\u001b[0m\u001b[1;33m(\u001b[0m\u001b[1;34m'Different players arrays'\u001b[0m\u001b[1;33m)\u001b[0m\u001b[1;33m\u001b[0m\u001b[1;33m\u001b[0m\u001b[0m\n\u001b[0;32m    102\u001b[0m     \u001b[0mprint\u001b[0m\u001b[1;33m(\u001b[0m\u001b[1;34mf\"Amount data before check: {len(df)}\"\u001b[0m\u001b[1;33m)\u001b[0m\u001b[1;33m\u001b[0m\u001b[1;33m\u001b[0m\u001b[0m\n\u001b[1;32m--> 103\u001b[1;33m     \u001b[0mcheck_number_players_games\u001b[0m\u001b[1;33m(\u001b[0m\u001b[0mdf\u001b[0m\u001b[1;33m,\u001b[0m \u001b[0momit_errors\u001b[0m\u001b[1;33m)\u001b[0m\u001b[1;33m\u001b[0m\u001b[1;33m\u001b[0m\u001b[0m\n\u001b[0m\u001b[0;32m    104\u001b[0m     \u001b[0mcheck_additiona_info\u001b[0m\u001b[1;33m(\u001b[0m\u001b[0mdf\u001b[0m\u001b[1;33m,\u001b[0m \u001b[1;32mFalse\u001b[0m\u001b[1;33m)\u001b[0m\u001b[1;33m\u001b[0m\u001b[1;33m\u001b[0m\u001b[0m\n\u001b[0;32m    105\u001b[0m     \u001b[0mprint\u001b[0m\u001b[1;33m(\u001b[0m\u001b[1;34mf\"Amount data after check: {len(df)}\"\u001b[0m\u001b[1;33m)\u001b[0m\u001b[1;33m\u001b[0m\u001b[1;33m\u001b[0m\u001b[0m\n",
      "\u001b[1;32md:\\Repozytoria\\Enriching-the-Monte-Carlo-Tree-Search-Algorithm\\results_processing\\data_processing.py\u001b[0m in \u001b[0;36mcheck_number_players_games\u001b[1;34m(df, omit_errors)\u001b[0m\n\u001b[0;32m     33\u001b[0m         \u001b[1;32mif\u001b[0m \u001b[1;32mnot\u001b[0m \u001b[0mn_games1\u001b[0m \u001b[1;33m==\u001b[0m \u001b[0mlen\u001b[0m\u001b[1;33m(\u001b[0m\u001b[0mdf\u001b[0m\u001b[1;33m.\u001b[0m\u001b[0mloc\u001b[0m\u001b[1;33m[\u001b[0m\u001b[1;33m(\u001b[0m\u001b[0mdf\u001b[0m\u001b[1;33m[\u001b[0m\u001b[1;34m'player1'\u001b[0m\u001b[1;33m]\u001b[0m \u001b[1;33m==\u001b[0m \u001b[0mplayer1\u001b[0m\u001b[1;33m)\u001b[0m\u001b[1;33m]\u001b[0m\u001b[1;33m)\u001b[0m\u001b[1;33m:\u001b[0m\u001b[1;33m\u001b[0m\u001b[1;33m\u001b[0m\u001b[0m\n\u001b[0;32m     34\u001b[0m             \u001b[1;32mif\u001b[0m \u001b[1;32mnot\u001b[0m \u001b[0momit_errors\u001b[0m\u001b[1;33m:\u001b[0m\u001b[1;33m\u001b[0m\u001b[1;33m\u001b[0m\u001b[0m\n\u001b[1;32m---> 35\u001b[1;33m                 \u001b[1;32mraise\u001b[0m \u001b[0mValueError\u001b[0m\u001b[1;33m(\u001b[0m\u001b[1;34m'Different games player by first players'\u001b[0m\u001b[1;33m)\u001b[0m\u001b[1;33m\u001b[0m\u001b[1;33m\u001b[0m\u001b[0m\n\u001b[0m\u001b[0;32m     36\u001b[0m             \u001b[1;32mreturn\u001b[0m \u001b[1;32mFalse\u001b[0m\u001b[1;33m\u001b[0m\u001b[1;33m\u001b[0m\u001b[0m\n\u001b[0;32m     37\u001b[0m \u001b[1;33m\u001b[0m\u001b[0m\n",
      "\u001b[1;31mValueError\u001b[0m: Different games player by first players"
     ]
    }
   ],
   "source": [
    "# df = read_data_of_game(FILE_PATH, SEPARATHOR, 'othello')\n",
    "# result_df = check_data_and_create_result_df(df) #FALSE\n",
    "# df_tournament = create_tournament_df(df, list(result_df.index))\n",
    "\n",
    "df, result_df, df_tournament = process_data(FILE_PATH, SEPARATHOR, 'othello')"
   ]
  },
  {
   "cell_type": "code",
   "execution_count": 4,
   "metadata": {},
   "outputs": [],
   "source": [
    "df = read_data_of_game(FILE_PATH, SEPARATHOR, 'othello')"
   ]
  },
  {
   "cell_type": "code",
   "execution_count": 8,
   "metadata": {},
   "outputs": [],
   "source": [
    "df_d = df.drop_duplicates(subset=df.columns[1:5])"
   ]
  },
  {
   "cell_type": "code",
   "execution_count": 6,
   "metadata": {},
   "outputs": [
    {
     "name": "stdout",
     "output_type": "stream",
     "text": [
      "<class 'pandas.core.frame.DataFrame'>\n",
      "RangeIndex: 7293 entries, 0 to 7292\n",
      "Data columns (total 18 columns):\n",
      " #   Column               Non-Null Count  Dtype  \n",
      "---  ------               --------------  -----  \n",
      " 0   index                7293 non-null   int64  \n",
      " 1   game_type            7293 non-null   object \n",
      " 2   player1              7293 non-null   object \n",
      " 3   player2              7293 non-null   object \n",
      " 4   winner               7293 non-null   int64  \n",
      " 5   seed                 7293 non-null   int64  \n",
      " 6   game_time            7293 non-null   float64\n",
      " 7   other                7293 non-null   object \n",
      " 8   score_result         7293 non-null   object \n",
      " 9   no_moves_p1          7293 non-null   object \n",
      " 10  no_moves_p2          7293 non-null   object \n",
      " 11  no_blocked_moves_p1  7293 non-null   object \n",
      " 12  no_blocked_moves_p2  7293 non-null   object \n",
      " 13  move_income_p1       7293 non-null   object \n",
      " 14  move_income_p2       7293 non-null   object \n",
      " 15  board_scores         7293 non-null   object \n",
      " 16  switching_stats_p1   1200 non-null   object \n",
      " 17  switching_stats_p2   1200 non-null   object \n",
      "dtypes: float64(1), int64(3), object(14)\n",
      "memory usage: 1.0+ MB\n"
     ]
    }
   ],
   "source": [
    "df.info()"
   ]
  },
  {
   "cell_type": "code",
   "execution_count": 9,
   "metadata": {},
   "outputs": [
    {
     "name": "stdout",
     "output_type": "stream",
     "text": [
      "<class 'pandas.core.frame.DataFrame'>\n",
      "Int64Index: 7293 entries, 0 to 7292\n",
      "Data columns (total 18 columns):\n",
      " #   Column               Non-Null Count  Dtype  \n",
      "---  ------               --------------  -----  \n",
      " 0   index                7293 non-null   int64  \n",
      " 1   game_type            7293 non-null   object \n",
      " 2   player1              7293 non-null   object \n",
      " 3   player2              7293 non-null   object \n",
      " 4   winner               7293 non-null   int64  \n",
      " 5   seed                 7293 non-null   int64  \n",
      " 6   game_time            7293 non-null   float64\n",
      " 7   other                7293 non-null   object \n",
      " 8   score_result         7293 non-null   object \n",
      " 9   no_moves_p1          7293 non-null   object \n",
      " 10  no_moves_p2          7293 non-null   object \n",
      " 11  no_blocked_moves_p1  7293 non-null   object \n",
      " 12  no_blocked_moves_p2  7293 non-null   object \n",
      " 13  move_income_p1       7293 non-null   object \n",
      " 14  move_income_p2       7293 non-null   object \n",
      " 15  board_scores         7293 non-null   object \n",
      " 16  switching_stats_p1   1200 non-null   object \n",
      " 17  switching_stats_p2   1200 non-null   object \n",
      "dtypes: float64(1), int64(3), object(14)\n",
      "memory usage: 1.1+ MB\n"
     ]
    }
   ],
   "source": [
    "df_d.info()"
   ]
  },
  {
   "cell_type": "code",
   "execution_count": 11,
   "metadata": {},
   "outputs": [
    {
     "data": {
      "text/plain": [
       "7293"
      ]
     },
     "execution_count": 11,
     "metadata": {},
     "output_type": "execute_result"
    }
   ],
   "source": [
    "len(df_d)"
   ]
  },
  {
   "cell_type": "code",
   "execution_count": 10,
   "metadata": {},
   "outputs": [
    {
     "ename": "ValueError",
     "evalue": "Different games player by first players",
     "output_type": "error",
     "traceback": [
      "\u001b[1;31m---------------------------------------------------------------------------\u001b[0m",
      "\u001b[1;31mValueError\u001b[0m                                Traceback (most recent call last)",
      "\u001b[1;32m~\\AppData\\Local\\Temp/ipykernel_27156/2543625215.py\u001b[0m in \u001b[0;36m<module>\u001b[1;34m\u001b[0m\n\u001b[1;32m----> 1\u001b[1;33m \u001b[0mcheck_number_players_games\u001b[0m\u001b[1;33m(\u001b[0m\u001b[0mdf_d\u001b[0m\u001b[1;33m)\u001b[0m\u001b[1;33m\u001b[0m\u001b[1;33m\u001b[0m\u001b[0m\n\u001b[0m",
      "\u001b[1;32md:\\Repozytoria\\Enriching-the-Monte-Carlo-Tree-Search-Algorithm\\results_processing\\data_processing.py\u001b[0m in \u001b[0;36mcheck_number_players_games\u001b[1;34m(df, omit_errors)\u001b[0m\n\u001b[0;32m     33\u001b[0m         \u001b[1;32mif\u001b[0m \u001b[1;32mnot\u001b[0m \u001b[0mn_games1\u001b[0m \u001b[1;33m==\u001b[0m \u001b[0mlen\u001b[0m\u001b[1;33m(\u001b[0m\u001b[0mdf\u001b[0m\u001b[1;33m.\u001b[0m\u001b[0mloc\u001b[0m\u001b[1;33m[\u001b[0m\u001b[1;33m(\u001b[0m\u001b[0mdf\u001b[0m\u001b[1;33m[\u001b[0m\u001b[1;34m'player1'\u001b[0m\u001b[1;33m]\u001b[0m \u001b[1;33m==\u001b[0m \u001b[0mplayer1\u001b[0m\u001b[1;33m)\u001b[0m\u001b[1;33m]\u001b[0m\u001b[1;33m)\u001b[0m\u001b[1;33m:\u001b[0m\u001b[1;33m\u001b[0m\u001b[1;33m\u001b[0m\u001b[0m\n\u001b[0;32m     34\u001b[0m             \u001b[1;32mif\u001b[0m \u001b[1;32mnot\u001b[0m \u001b[0momit_errors\u001b[0m\u001b[1;33m:\u001b[0m\u001b[1;33m\u001b[0m\u001b[1;33m\u001b[0m\u001b[0m\n\u001b[1;32m---> 35\u001b[1;33m                 \u001b[1;32mraise\u001b[0m \u001b[0mValueError\u001b[0m\u001b[1;33m(\u001b[0m\u001b[1;34m'Different games player by first players'\u001b[0m\u001b[1;33m)\u001b[0m\u001b[1;33m\u001b[0m\u001b[1;33m\u001b[0m\u001b[0m\n\u001b[0m\u001b[0;32m     36\u001b[0m             \u001b[1;32mreturn\u001b[0m \u001b[1;32mFalse\u001b[0m\u001b[1;33m\u001b[0m\u001b[1;33m\u001b[0m\u001b[0m\n\u001b[0;32m     37\u001b[0m \u001b[1;33m\u001b[0m\u001b[0m\n",
      "\u001b[1;31mValueError\u001b[0m: Different games player by first players"
     ]
    }
   ],
   "source": [
    "check_number_players_games(df_d)"
   ]
  },
  {
   "cell_type": "code",
   "execution_count": 4,
   "metadata": {},
   "outputs": [
    {
     "data": {
      "text/html": [
       "<div>\n",
       "<style scoped>\n",
       "    .dataframe tbody tr th:only-of-type {\n",
       "        vertical-align: middle;\n",
       "    }\n",
       "\n",
       "    .dataframe tbody tr th {\n",
       "        vertical-align: top;\n",
       "    }\n",
       "\n",
       "    .dataframe thead th {\n",
       "        text-align: right;\n",
       "    }\n",
       "</style>\n",
       "<table border=\"1\" class=\"dataframe\">\n",
       "  <thead>\n",
       "    <tr style=\"text-align: right;\">\n",
       "      <th></th>\n",
       "      <th>game_type</th>\n",
       "      <th>player1</th>\n",
       "      <th>player2</th>\n",
       "      <th>winner</th>\n",
       "      <th>seed</th>\n",
       "      <th>game_time</th>\n",
       "      <th>other</th>\n",
       "    </tr>\n",
       "  </thead>\n",
       "  <tbody>\n",
       "    <tr>\n",
       "      <th>538</th>\n",
       "      <td>othello</td>\n",
       "      <td>mctsrave10000</td>\n",
       "      <td>random_strategy</td>\n",
       "      <td>1</td>\n",
       "      <td>22020119</td>\n",
       "      <td>115.738856</td>\n",
       "      <td>((52, 12), (31, 29), (0, 1), ([2, 2, 2, 2, 2, ...</td>\n",
       "    </tr>\n",
       "    <tr>\n",
       "      <th>174</th>\n",
       "      <td>othello</td>\n",
       "      <td>mctsstrategy10000(mobility_strategy_vs)</td>\n",
       "      <td>mctsstrategy10000(mapbaseothello_strategy)</td>\n",
       "      <td>2</td>\n",
       "      <td>22020115</td>\n",
       "      <td>1474.788429</td>\n",
       "      <td>((18, 46), (30, 30), (0, 0), ([2, 2, 3, 2, 2, ...</td>\n",
       "    </tr>\n",
       "    <tr>\n",
       "      <th>331</th>\n",
       "      <td>othello</td>\n",
       "      <td>mctsstrategy10000(mobility_strategy)</td>\n",
       "      <td>mctsstrategies10000(random_strategy:mobility_s...</td>\n",
       "      <td>1</td>\n",
       "      <td>22020117</td>\n",
       "      <td>1341.493073</td>\n",
       "      <td>((46, 18), (31, 29), (0, 1), ([2, 2, 2, 3, 2, ...</td>\n",
       "    </tr>\n",
       "  </tbody>\n",
       "</table>\n",
       "</div>"
      ],
      "text/plain": [
       "    game_type                                  player1  \\\n",
       "538   othello                            mctsrave10000   \n",
       "174   othello  mctsstrategy10000(mobility_strategy_vs)   \n",
       "331   othello     mctsstrategy10000(mobility_strategy)   \n",
       "\n",
       "                                               player2  winner      seed  \\\n",
       "538                                    random_strategy       1  22020119   \n",
       "174         mctsstrategy10000(mapbaseothello_strategy)       2  22020115   \n",
       "331  mctsstrategies10000(random_strategy:mobility_s...       1  22020117   \n",
       "\n",
       "       game_time                                              other  \n",
       "538   115.738856  ((52, 12), (31, 29), (0, 1), ([2, 2, 2, 2, 2, ...  \n",
       "174  1474.788429  ((18, 46), (30, 30), (0, 0), ([2, 2, 3, 2, 2, ...  \n",
       "331  1341.493073  ((46, 18), (31, 29), (0, 1), ([2, 2, 2, 3, 2, ...  "
      ]
     },
     "execution_count": 4,
     "metadata": {},
     "output_type": "execute_result"
    }
   ],
   "source": [
    "df.sample(3)"
   ]
  },
  {
   "cell_type": "code",
   "execution_count": 5,
   "metadata": {},
   "outputs": [
    {
     "data": {
      "text/html": [
       "<div>\n",
       "<style scoped>\n",
       "    .dataframe tbody tr th:only-of-type {\n",
       "        vertical-align: middle;\n",
       "    }\n",
       "\n",
       "    .dataframe tbody tr th {\n",
       "        vertical-align: top;\n",
       "    }\n",
       "\n",
       "    .dataframe thead th {\n",
       "        text-align: right;\n",
       "    }\n",
       "</style>\n",
       "<table border=\"1\" class=\"dataframe\">\n",
       "  <thead>\n",
       "    <tr style=\"text-align: right;\">\n",
       "      <th></th>\n",
       "      <th>wins</th>\n",
       "      <th>draws</th>\n",
       "      <th>defeats</th>\n",
       "      <th>avg game time</th>\n",
       "      <th>score</th>\n",
       "      <th>win%</th>\n",
       "      <th>draws%</th>\n",
       "      <th>defeats%</th>\n",
       "      <th>no games</th>\n",
       "    </tr>\n",
       "  </thead>\n",
       "  <tbody>\n",
       "    <tr>\n",
       "      <th>mctsstrategies10000(mobility_strategy_vs:mobility_strategy:mapbaseothello_strategy)</th>\n",
       "      <td>198</td>\n",
       "      <td>3</td>\n",
       "      <td>39</td>\n",
       "      <td>1037.22</td>\n",
       "      <td>199.5</td>\n",
       "      <td>82.500000</td>\n",
       "      <td>1.250000</td>\n",
       "      <td>16.250000</td>\n",
       "      <td>240</td>\n",
       "    </tr>\n",
       "    <tr>\n",
       "      <th>mctsstrategy10000(mobility_strategy_vs)</th>\n",
       "      <td>192</td>\n",
       "      <td>3</td>\n",
       "      <td>45</td>\n",
       "      <td>2351.40</td>\n",
       "      <td>193.5</td>\n",
       "      <td>80.000000</td>\n",
       "      <td>1.250000</td>\n",
       "      <td>18.750000</td>\n",
       "      <td>240</td>\n",
       "    </tr>\n",
       "    <tr>\n",
       "      <th>mctsstrategy10000(mapbaseothello_strategy)</th>\n",
       "      <td>191</td>\n",
       "      <td>3</td>\n",
       "      <td>46</td>\n",
       "      <td>503.00</td>\n",
       "      <td>192.5</td>\n",
       "      <td>79.583333</td>\n",
       "      <td>1.250000</td>\n",
       "      <td>19.166667</td>\n",
       "      <td>240</td>\n",
       "    </tr>\n",
       "    <tr>\n",
       "      <th>mctsstrategy10000(mobility_strategy)</th>\n",
       "      <td>174</td>\n",
       "      <td>4</td>\n",
       "      <td>62</td>\n",
       "      <td>1236.28</td>\n",
       "      <td>176.0</td>\n",
       "      <td>72.500000</td>\n",
       "      <td>1.666667</td>\n",
       "      <td>25.833333</td>\n",
       "      <td>240</td>\n",
       "    </tr>\n",
       "    <tr>\n",
       "      <th>mctsstrategies10000(random_strategy:mobility_strategy_vs:mobility_strategy:mapbaseothello_strategy:greedyothello_strategy:evaluateothello_strategy)</th>\n",
       "      <td>164</td>\n",
       "      <td>5</td>\n",
       "      <td>71</td>\n",
       "      <td>969.23</td>\n",
       "      <td>166.5</td>\n",
       "      <td>68.333333</td>\n",
       "      <td>2.083333</td>\n",
       "      <td>29.583333</td>\n",
       "      <td>240</td>\n",
       "    </tr>\n",
       "    <tr>\n",
       "      <th>mcts10000</th>\n",
       "      <td>136</td>\n",
       "      <td>0</td>\n",
       "      <td>104</td>\n",
       "      <td>456.70</td>\n",
       "      <td>136.0</td>\n",
       "      <td>56.666667</td>\n",
       "      <td>0.000000</td>\n",
       "      <td>43.333333</td>\n",
       "      <td>240</td>\n",
       "    </tr>\n",
       "  </tbody>\n",
       "</table>\n",
       "</div>"
      ],
      "text/plain": [
       "                                                    wins  draws  defeats  \\\n",
       "mctsstrategies10000(mobility_strategy_vs:mobili...   198      3       39   \n",
       "mctsstrategy10000(mobility_strategy_vs)              192      3       45   \n",
       "mctsstrategy10000(mapbaseothello_strategy)           191      3       46   \n",
       "mctsstrategy10000(mobility_strategy)                 174      4       62   \n",
       "mctsstrategies10000(random_strategy:mobility_st...   164      5       71   \n",
       "mcts10000                                            136      0      104   \n",
       "\n",
       "                                                    avg game time  score  \\\n",
       "mctsstrategies10000(mobility_strategy_vs:mobili...        1037.22  199.5   \n",
       "mctsstrategy10000(mobility_strategy_vs)                   2351.40  193.5   \n",
       "mctsstrategy10000(mapbaseothello_strategy)                 503.00  192.5   \n",
       "mctsstrategy10000(mobility_strategy)                      1236.28  176.0   \n",
       "mctsstrategies10000(random_strategy:mobility_st...         969.23  166.5   \n",
       "mcts10000                                                  456.70  136.0   \n",
       "\n",
       "                                                         win%    draws%  \\\n",
       "mctsstrategies10000(mobility_strategy_vs:mobili...  82.500000  1.250000   \n",
       "mctsstrategy10000(mobility_strategy_vs)             80.000000  1.250000   \n",
       "mctsstrategy10000(mapbaseothello_strategy)          79.583333  1.250000   \n",
       "mctsstrategy10000(mobility_strategy)                72.500000  1.666667   \n",
       "mctsstrategies10000(random_strategy:mobility_st...  68.333333  2.083333   \n",
       "mcts10000                                           56.666667  0.000000   \n",
       "\n",
       "                                                     defeats%  no games  \n",
       "mctsstrategies10000(mobility_strategy_vs:mobili...  16.250000       240  \n",
       "mctsstrategy10000(mobility_strategy_vs)             18.750000       240  \n",
       "mctsstrategy10000(mapbaseothello_strategy)          19.166667       240  \n",
       "mctsstrategy10000(mobility_strategy)                25.833333       240  \n",
       "mctsstrategies10000(random_strategy:mobility_st...  29.583333       240  \n",
       "mcts10000                                           43.333333       240  "
      ]
     },
     "execution_count": 5,
     "metadata": {},
     "output_type": "execute_result"
    }
   ],
   "source": [
    "result_df[:6]"
   ]
  },
  {
   "cell_type": "code",
   "execution_count": 6,
   "metadata": {},
   "outputs": [
    {
     "data": {
      "text/html": [
       "<div>\n",
       "<style scoped>\n",
       "    .dataframe tbody tr th:only-of-type {\n",
       "        vertical-align: middle;\n",
       "    }\n",
       "\n",
       "    .dataframe tbody tr th {\n",
       "        vertical-align: top;\n",
       "    }\n",
       "\n",
       "    .dataframe thead th {\n",
       "        text-align: right;\n",
       "    }\n",
       "</style>\n",
       "<table border=\"1\" class=\"dataframe\">\n",
       "  <thead>\n",
       "    <tr style=\"text-align: right;\">\n",
       "      <th></th>\n",
       "      <th>mctsstrategies10000(mobility_strategy_vs:mobility_strategy:mapbaseothello_strategy)</th>\n",
       "      <th>mctsstrategy10000(mobility_strategy_vs)</th>\n",
       "      <th>mctsstrategy10000(mapbaseothello_strategy)</th>\n",
       "      <th>mctsstrategy10000(mobility_strategy)</th>\n",
       "      <th>mctsstrategies10000(random_strategy:mobility_strategy_vs:mobility_strategy:mapbaseothello_strategy:greedyothello_strategy:evaluateothello_strategy)</th>\n",
       "      <th>mcts10000</th>\n",
       "    </tr>\n",
       "  </thead>\n",
       "  <tbody>\n",
       "    <tr>\n",
       "      <th>mctsstrategies10000(mobility_strategy_vs:mobility_strategy:mapbaseothello_strategy)</th>\n",
       "      <td>5-0-5</td>\n",
       "      <td>6-1-3</td>\n",
       "      <td>5-0-5</td>\n",
       "      <td>7-0-3</td>\n",
       "      <td>9-1-0</td>\n",
       "      <td>9-0-1</td>\n",
       "    </tr>\n",
       "    <tr>\n",
       "      <th>mctsstrategy10000(mobility_strategy_vs)</th>\n",
       "      <td>4-1-5</td>\n",
       "      <td>4-0-6</td>\n",
       "      <td>5-0-5</td>\n",
       "      <td>8-1-1</td>\n",
       "      <td>8-0-2</td>\n",
       "      <td>9-0-1</td>\n",
       "    </tr>\n",
       "    <tr>\n",
       "      <th>mctsstrategy10000(mapbaseothello_strategy)</th>\n",
       "      <td>6-0-4</td>\n",
       "      <td>6-0-4</td>\n",
       "      <td>5-0-5</td>\n",
       "      <td>4-1-5</td>\n",
       "      <td>7-1-2</td>\n",
       "      <td>7-0-3</td>\n",
       "    </tr>\n",
       "    <tr>\n",
       "      <th>mctsstrategy10000(mobility_strategy)</th>\n",
       "      <td>4-0-6</td>\n",
       "      <td>3-0-7</td>\n",
       "      <td>3-0-7</td>\n",
       "      <td>3-1-6</td>\n",
       "      <td>6-0-4</td>\n",
       "      <td>9-0-1</td>\n",
       "    </tr>\n",
       "    <tr>\n",
       "      <th>mctsstrategies10000(random_strategy:mobility_strategy_vs:mobility_strategy:mapbaseothello_strategy:greedyothello_strategy:evaluateothello_strategy)</th>\n",
       "      <td>2-0-8</td>\n",
       "      <td>3-0-7</td>\n",
       "      <td>3-1-6</td>\n",
       "      <td>5-0-5</td>\n",
       "      <td>5-0-5</td>\n",
       "      <td>10-0-0</td>\n",
       "    </tr>\n",
       "    <tr>\n",
       "      <th>mcts10000</th>\n",
       "      <td>1-0-9</td>\n",
       "      <td>1-0-9</td>\n",
       "      <td>1-0-9</td>\n",
       "      <td>0-0-10</td>\n",
       "      <td>3-0-7</td>\n",
       "      <td>4-0-6</td>\n",
       "    </tr>\n",
       "  </tbody>\n",
       "</table>\n",
       "</div>"
      ],
      "text/plain": [
       "                                                   mctsstrategies10000(mobility_strategy_vs:mobility_strategy:mapbaseothello_strategy)  \\\n",
       "mctsstrategies10000(mobility_strategy_vs:mobili...                                              5-0-5                                    \n",
       "mctsstrategy10000(mobility_strategy_vs)                                                         4-1-5                                    \n",
       "mctsstrategy10000(mapbaseothello_strategy)                                                      6-0-4                                    \n",
       "mctsstrategy10000(mobility_strategy)                                                            4-0-6                                    \n",
       "mctsstrategies10000(random_strategy:mobility_st...                                              2-0-8                                    \n",
       "mcts10000                                                                                       1-0-9                                    \n",
       "\n",
       "                                                   mctsstrategy10000(mobility_strategy_vs)  \\\n",
       "mctsstrategies10000(mobility_strategy_vs:mobili...                                   6-1-3   \n",
       "mctsstrategy10000(mobility_strategy_vs)                                              4-0-6   \n",
       "mctsstrategy10000(mapbaseothello_strategy)                                           6-0-4   \n",
       "mctsstrategy10000(mobility_strategy)                                                 3-0-7   \n",
       "mctsstrategies10000(random_strategy:mobility_st...                                   3-0-7   \n",
       "mcts10000                                                                            1-0-9   \n",
       "\n",
       "                                                   mctsstrategy10000(mapbaseothello_strategy)  \\\n",
       "mctsstrategies10000(mobility_strategy_vs:mobili...                                      5-0-5   \n",
       "mctsstrategy10000(mobility_strategy_vs)                                                 5-0-5   \n",
       "mctsstrategy10000(mapbaseothello_strategy)                                              5-0-5   \n",
       "mctsstrategy10000(mobility_strategy)                                                    3-0-7   \n",
       "mctsstrategies10000(random_strategy:mobility_st...                                      3-1-6   \n",
       "mcts10000                                                                               1-0-9   \n",
       "\n",
       "                                                   mctsstrategy10000(mobility_strategy)  \\\n",
       "mctsstrategies10000(mobility_strategy_vs:mobili...                                7-0-3   \n",
       "mctsstrategy10000(mobility_strategy_vs)                                           8-1-1   \n",
       "mctsstrategy10000(mapbaseothello_strategy)                                        4-1-5   \n",
       "mctsstrategy10000(mobility_strategy)                                              3-1-6   \n",
       "mctsstrategies10000(random_strategy:mobility_st...                                5-0-5   \n",
       "mcts10000                                                                        0-0-10   \n",
       "\n",
       "                                                   mctsstrategies10000(random_strategy:mobility_strategy_vs:mobility_strategy:mapbaseothello_strategy:greedyothello_strategy:evaluateothello_strategy)  \\\n",
       "mctsstrategies10000(mobility_strategy_vs:mobili...                                              9-1-0                                                                                                    \n",
       "mctsstrategy10000(mobility_strategy_vs)                                                         8-0-2                                                                                                    \n",
       "mctsstrategy10000(mapbaseothello_strategy)                                                      7-1-2                                                                                                    \n",
       "mctsstrategy10000(mobility_strategy)                                                            6-0-4                                                                                                    \n",
       "mctsstrategies10000(random_strategy:mobility_st...                                              5-0-5                                                                                                    \n",
       "mcts10000                                                                                       3-0-7                                                                                                    \n",
       "\n",
       "                                                   mcts10000  \n",
       "mctsstrategies10000(mobility_strategy_vs:mobili...     9-0-1  \n",
       "mctsstrategy10000(mobility_strategy_vs)                9-0-1  \n",
       "mctsstrategy10000(mapbaseothello_strategy)             7-0-3  \n",
       "mctsstrategy10000(mobility_strategy)                   9-0-1  \n",
       "mctsstrategies10000(random_strategy:mobility_st...    10-0-0  \n",
       "mcts10000                                              4-0-6  "
      ]
     },
     "execution_count": 6,
     "metadata": {},
     "output_type": "execute_result"
    }
   ],
   "source": [
    "df_tournament.iloc[:6,:6]"
   ]
  },
  {
   "cell_type": "code",
   "execution_count": 7,
   "metadata": {},
   "outputs": [],
   "source": [
    "writer = pd.ExcelWriter(XLSX_FILE_NAME, engine='xlsxwriter')\n",
    "result_df.to_excel(writer, sheet_name='result_df')\n",
    "df_tournament.to_excel(writer, sheet_name='df_tournament')\n",
    "writer.save()"
   ]
  },
  {
   "cell_type": "code",
   "execution_count": 5,
   "metadata": {},
   "outputs": [
    {
     "data": {
      "text/plain": [
       "Int64Index([4579, 4581, 4582, 4583, 4585, 4586, 4589, 4590, 4591, 4592,\n",
       "            ...\n",
       "            5364, 5365, 5366, 5367, 5370, 5371, 5372, 5373, 5376, 5379],\n",
       "           dtype='int64', length=600)"
      ]
     },
     "execution_count": 5,
     "metadata": {},
     "output_type": "execute_result"
    }
   ],
   "source": [
    "df_tmp = df[\"no_moves_p1\"].apply(lambda x : int(x)>0)\n",
    "invalid_indexies = df_tmp[df_tmp==False].index\n",
    "invalid_indexies"
   ]
  },
  {
   "cell_type": "code",
   "execution_count": 8,
   "metadata": {},
   "outputs": [
    {
     "data": {
      "text/plain": [
       "index                                                               4579\n",
       "game_type                                                        othello\n",
       "player1                                           greedyothello_strategy\n",
       "player2                       mctsstrategy10000(mapbaseothello_strategy)\n",
       "winner                                                                 2\n",
       "seed                                                            22020111\n",
       "game_time                                                      41.042764\n",
       "other                  ((18, 46), (0, 13), (13, 0), ([], [2, 2, 3, 2,...\n",
       "score_result                                                      18: 46\n",
       "no_moves_p1                                                            0\n",
       "no_moves_p2                                                           13\n",
       "no_blocked_moves_p1                                                   13\n",
       "no_blocked_moves_p2                                                    0\n",
       "move_income_p1                                                          \n",
       "move_income_p2                     2, 2, 3, 2, 3, 8, 8, 2, 4, 9, 7, 2, 2\n",
       "board_scores           1, 3, 3, 5, 5, -1, -9, -11, -13, -24, -29, -29...\n",
       "switching_stats_p1                                                  None\n",
       "switching_stats_p2                                                  None\n",
       "Name: 4579, dtype: object"
      ]
     },
     "execution_count": 8,
     "metadata": {},
     "output_type": "execute_result"
    }
   ],
   "source": [
    "df.iloc[4579]\n"
   ]
  },
  {
   "cell_type": "code",
   "execution_count": null,
   "metadata": {},
   "outputs": [],
   "source": []
  }
 ],
 "metadata": {
  "kernelspec": {
   "display_name": "Python 3.9.7 64-bit",
   "language": "python",
   "name": "python3"
  },
  "language_info": {
   "codemirror_mode": {
    "name": "ipython",
    "version": 3
   },
   "file_extension": ".py",
   "mimetype": "text/x-python",
   "name": "python",
   "nbconvert_exporter": "python",
   "pygments_lexer": "ipython3",
   "version": "3.9.7"
  },
  "orig_nbformat": 4,
  "vscode": {
   "interpreter": {
    "hash": "9e0398d58fda526a2836b6f080cc0e130ba0d90524d9bf11d624e26908064b99"
   }
  }
 },
 "nbformat": 4,
 "nbformat_minor": 2
}
